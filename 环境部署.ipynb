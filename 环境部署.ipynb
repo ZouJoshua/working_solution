{
 "cells": [
  {
   "cell_type": "markdown",
   "source": [
    "# MAC安装软件列表"
   ],
   "metadata": {
    "collapsed": false
   }
  },
  {
   "cell_type": "markdown",
   "source": [
    "- 下载anaconda3\n",
    "- 下载pycharm\n",
    "- 下载idea\n",
    "- 下载sublime text\n",
    "- 下载dataspell\n",
    "- 下载微信\n",
    "- 下载网易云"
   ],
   "metadata": {
    "collapsed": false
   }
  },
  {
   "cell_type": "markdown",
   "source": [
    "# homebrew 安装 Anaconda"
   ],
   "metadata": {
    "collapsed": false
   }
  },
  {
   "cell_type": "code",
   "execution_count": null,
   "outputs": [],
   "source": [
    "# 安装homebrew\n",
    "!/bin/bash -c \"$(curl -fsSL https://raw.githubusercontent.com/Homebrew/install/master/install.sh)\"\n",
    "# 验证homebrew安装成功\n",
    "!brew -v\n",
    "# 下载wget\n",
    "!brew search wget\n",
    "!brew install wget\n",
    "!brew info wget\n",
    "# brew cask主要用来下载一些带界面的应用软件\n",
    "!brew cask install anaconda\n",
    "# 配置环境变量\n",
    "!export PATH=/usr/local/anaconda3/bin:$PATH\n",
    "!export PATH=\"/usr/local/anaconda3/bin:$PATH\"\n",
    "# 环境变量写入文件\n",
    "!echo 'export PATH=/usr/local/anaconda3/bin:$PATH' >> ~/.bash_profile\n",
    "!vim ~/.bash_profile\n",
    "!alias ll='ls -alF'\n",
    "!source ~/.bash_profile\n",
    "!source ~/.zshrc\n",
    "# 验证anaconda3安装成功\n",
    "!conda -V"
   ],
   "metadata": {
    "collapsed": false
   }
  },
  {
   "cell_type": "markdown",
   "source": [
    "# 终端tmux使用方法\n",
    "https://www.jianshu.com/p/3107a084e88a"
   ],
   "metadata": {
    "collapsed": false
   }
  }
 ],
 "metadata": {
  "kernelspec": {
   "display_name": "Python 3",
   "language": "python",
   "name": "python3"
  },
  "language_info": {
   "codemirror_mode": {
    "name": "ipython",
    "version": 2
   },
   "file_extension": ".py",
   "mimetype": "text/x-python",
   "name": "python",
   "nbconvert_exporter": "python",
   "pygments_lexer": "ipython2",
   "version": "2.7.6"
  }
 },
 "nbformat": 4,
 "nbformat_minor": 0
}
