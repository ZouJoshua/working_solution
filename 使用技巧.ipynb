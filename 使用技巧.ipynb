{
 "cells": [
  {
   "cell_type": "markdown",
   "source": [
    "# excel超链接\n",
    "---"
   ],
   "metadata": {
    "collapsed": false
   }
  },
  {
   "cell_type": "markdown",
   "source": [
    "解决：\n",
    "=HYPERLINK（LINK_LOCATION，[FRIENDLY_NAME]）\n",
    "LINK_LOCATION代表链接的地址\n",
    "FRIENDLY_NAME代表显示的标题\n",
    "\n",
    "demo:\n",
    "=HYPERLINK(CONCAT(\"http://recommend-platform-nlp.vmic.xyz/aid2url?aid=\", A2), A2)"
   ],
   "metadata": {
    "collapsed": false
   }
  },
  {
   "cell_type": "markdown",
   "source": [
    "# 将 htop 命令输出为文件形式\n",
    "---"
   ],
   "metadata": {
    "collapsed": false
   }
  },
  {
   "cell_type": "raw",
   "source": [
    "# 1.安装aha\n",
    "#  OS X\n",
    "brew install aha\n",
    "#  Debian、Ubuntu、Linux、Windows (WSL2)、Raspbian\n",
    "sudo apt-get install aha\n",
    "# Fedora\n",
    "dnf install aha\n",
    "# Dockerfile\n",
    "dockerfile.run/aha\n",
    "# Docker\n",
    "docker run cmd.cat/aha aha\n",
    "# 2.输出到文件\n",
    "# echo q | htop | aha --black --line-fix > htop.html"
   ],
   "metadata": {
    "collapsed": false
   }
  },
  {
   "cell_type": "markdown",
   "source": [
    "# 查看进程命令详细路径\n",
    "---"
   ],
   "metadata": {
    "collapsed": false
   }
  },
  {
   "cell_type": "raw",
   "source": [
    "sudo ls -l /proc/94955（进程号）"
   ],
   "metadata": {
    "collapsed": false
   }
  }
 ],
 "metadata": {
  "kernelspec": {
   "display_name": "Python 3",
   "language": "python",
   "name": "python3"
  },
  "language_info": {
   "codemirror_mode": {
    "name": "ipython",
    "version": 2
   },
   "file_extension": ".py",
   "mimetype": "text/x-python",
   "name": "python",
   "nbconvert_exporter": "python",
   "pygments_lexer": "ipython2",
   "version": "2.7.6"
  }
 },
 "nbformat": 4,
 "nbformat_minor": 0
}
