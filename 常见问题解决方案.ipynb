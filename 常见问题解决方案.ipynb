{
 "cells": [
  {
   "cell_type": "markdown",
   "source": [
    "# $ conda install jieba失败\n",
    "----------------------------------\n",
    "Collecting package metadata (current_repodata.json): done\n",
    "Solving environment: failed with initial frozen solve. Retrying with flexible solve."
   ],
   "metadata": {
    "collapsed": false
   }
  },
  {
   "cell_type": "markdown",
   "source": [
    "解决：\n",
    "$ conda config --add channels conda-forge\n",
    "$ conda config --set channel_priority flexible"
   ],
   "metadata": {
    "collapsed": false
   }
  },
  {
   "cell_type": "markdown",
   "source": [
    "# TensorBoard 启动protobuf报错\n",
    "----------------------------------\n",
    "[libprotobuf ERROR external/protobuf_archive/src/google/protobuf/descriptor_database.cc:334] Invalid file descriptor data passed to EncodedDescriptorDatabase::Add().\n",
    "[libprotobuf FATAL external/protobuf_archive/src/google/protobuf/descriptor.cc:1370] CHECK failed: GeneratedDatabase()->Add(encoded_file_descriptor, size):\n",
    "libc++abi.dylib: terminating with uncaught exception of type google::protobuf::FatalException: CHECK failed: GeneratedDatabase()->Add(encoded_file_descriptor, size)"
   ],
   "metadata": {
    "collapsed": false
   }
  },
  {
   "cell_type": "markdown",
   "source": [
    "解决1：\n",
    "将 libprotobuf 改为 3.8.0 的版本\n",
    "https://www.jianshu.com/p/03a1c8482bfa\n",
    "解决2（可行-解决）:\n",
    "资料查找后发现问题出在protobuf与tensorflow版本不匹配，在终端输入如下命令即可解决：\n",
    "$ conda install protobuf=3.8"
   ],
   "metadata": {
    "collapsed": false
   }
  },
  {
   "cell_type": "markdown",
   "source": [
    "# pip3 install polyglot安装错误\n",
    "----------------------------------\n",
    "ModuleNotFoundError: No module named 'icu'"
   ],
   "metadata": {
    "collapsed": false
   }
  },
  {
   "cell_type": "markdown",
   "source": [
    "解决：\n",
    "conda install -c conda-forge pyicu morfessor icu -y && pip install pycld2 polyglot（mac）\n",
    "\n",
    "https://stackoverflow.com/questions/50217214/import-error-for-icu-in-mac-and-ubuntu-although-pyicu-is-installed-correctly\n",
    "https://tobywf.com/2017/05/installing-pyicu-on-macos/\n",
    "https://stackoverflow.com/questions/40940188/error-installing-pip-pyicu"
   ],
   "metadata": {
    "collapsed": false
   }
  }
 ],
 "metadata": {
  "kernelspec": {
   "display_name": "Python 3",
   "language": "python",
   "name": "python3"
  },
  "language_info": {
   "codemirror_mode": {
    "name": "ipython",
    "version": 2
   },
   "file_extension": ".py",
   "mimetype": "text/x-python",
   "name": "python",
   "nbconvert_exporter": "python",
   "pygments_lexer": "ipython2",
   "version": "2.7.6"
  }
 },
 "nbformat": 4,
 "nbformat_minor": 0
}
