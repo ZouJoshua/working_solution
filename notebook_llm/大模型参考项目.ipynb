{
 "cells": [
  {
   "cell_type": "markdown",
   "source": [
    "# 大模型参考项目\n",
    "---"
   ],
   "metadata": {
    "collapsed": false
   }
  },
  {
   "cell_type": "markdown",
   "source": [
    "[大语言模型微调技术][1]\n",
    "\n",
    "[模板学习-prompt综述][2]\n",
    "\n",
    "[大模型系统和应用——Prompt-learning & Delta Tuning][3]\n",
    "\n",
    "[CodeGeeX2推理教程][4]\n",
    "\n",
    "[LLaMA及其子孙模型概述][5]\n",
    "\n",
    "[在个人电脑上部署ChatGLM2-6B中文对话大模型][6]\n",
    "\n",
    "[LangChain + ChatGLM2-6B 搭建个人专属知识库][7]\n",
    "\n",
    "[NLP算法面试必备！PTMs：NLP预训练模型的全面总结][8]\n",
    "\n",
    "[NLP预训练模型的全面总结(持续更新中)(github)][9]\n",
    "\n",
    "[大模型学习笔记][10]\n",
    "\n",
    "[LLM 系列超详细解读][11]\n",
    "\n",
    "[医疗大模型（github）][12]\n",
    "\n",
    "[MiniGPT-4][13]\n",
    "\n",
    "[ChatGLM-6B大模型Docker NVIDIA 离线部署][14]\n",
    "\n",
    "[1]: https://juejin.cn/post/7256104538231849019\n",
    "[2]: https://juejin.cn/post/7148336645199101960\n",
    "[3]: https://blog.51cto.com/greyfoss/5730594\n",
    "[4]: https://github.com/THUDM/CodeGeeX2/blob/main/docs/zh/inference_zh.md\n",
    "[5]: https://juejin.cn/post/7220985690795851836\n",
    "[6]: https://juejin.cn/post/7250348861238870053\n",
    "[7]: https://juejin.cn/post/7255477718770139193\n",
    "[8]: https://zhuanlan.zhihu.com/p/115014536\n",
    "[9]: https://github.com/loujie0822/Pre-trained-Models\n",
    "[10]: https://www.zhihu.com/column/c_1637492664714125312\n",
    "[11]: https://zhuanlan.zhihu.com/p/616667762\n",
    "[12]: https://github.com/shibing624/MedicalGPT\n",
    "[13]: https://juejin.cn/post/7223211123960791100\n",
    "[14]: https://zhuanlan.zhihu.com/p/641876846\n"
   ],
   "metadata": {
    "collapsed": false
   }
  },
  {
   "cell_type": "markdown",
   "source": [
    "# AI算法可视化部署教程（Gradio）\n",
    "---"
   ],
   "metadata": {
    "collapsed": false
   }
  },
  {
   "cell_type": "markdown",
   "source": [
    "[Gradio入门到进阶全网最详细教程][1]\n",
    "\n",
    "[1]: https://mdnice.com/writing/a40f4bcd3b3e40d8931512186982b711"
   ],
   "metadata": {
    "collapsed": false
   }
  }
 ],
 "metadata": {
  "kernelspec": {
   "display_name": "Python 3",
   "language": "python",
   "name": "python3"
  },
  "language_info": {
   "codemirror_mode": {
    "name": "ipython",
    "version": 2
   },
   "file_extension": ".py",
   "mimetype": "text/x-python",
   "name": "python",
   "nbconvert_exporter": "python",
   "pygments_lexer": "ipython2",
   "version": "2.7.6"
  }
 },
 "nbformat": 4,
 "nbformat_minor": 0
}
