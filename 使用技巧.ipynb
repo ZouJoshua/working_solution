{
 "cells": [
  {
   "cell_type": "markdown",
   "source": [
    "# excel超链接"
   ],
   "metadata": {
    "collapsed": false
   }
  },
  {
   "cell_type": "code",
   "execution_count": null,
   "outputs": [],
   "source": [
    "解决：\n",
    "=HYPERLINK（LINK_LOCATION，[FRIENDLY_NAME]）\n",
    "LINK_LOCATION代表链接的地址\n",
    "FRIENDLY_NAME代表显示的标题\n",
    "\n",
    "demo:\n",
    "=HYPERLINK(CONCAT(\"http://recommend-platform-nlp.vmic.xyz/aid2url?aid=\", A2), A2)"
   ],
   "metadata": {
    "collapsed": false
   }
  }
 ],
 "metadata": {
  "kernelspec": {
   "display_name": "Python 3",
   "language": "python",
   "name": "python3"
  },
  "language_info": {
   "codemirror_mode": {
    "name": "ipython",
    "version": 2
   },
   "file_extension": ".py",
   "mimetype": "text/x-python",
   "name": "python",
   "nbconvert_exporter": "python",
   "pygments_lexer": "ipython2",
   "version": "2.7.6"
  }
 },
 "nbformat": 4,
 "nbformat_minor": 0
}
